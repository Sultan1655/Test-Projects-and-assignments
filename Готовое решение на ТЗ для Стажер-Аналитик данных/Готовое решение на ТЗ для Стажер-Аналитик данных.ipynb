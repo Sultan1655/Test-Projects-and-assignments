{
 "cells": [
  {
   "cell_type": "markdown",
   "id": "012e73d8",
   "metadata": {},
   "source": [
    "# Проект: Анализ клиентских транзакций"
   ]
  },
  {
   "cell_type": "markdown",
   "id": "d672dca5",
   "metadata": {},
   "source": [
    "## Цель проекта\n",
    "Анализировать данные о клиентах и их транзакциях, выявить закономерности, найти проблемы с данными и подготовить основу для возможного прогнозирования или построения моделей."
   ]
  },
  {
   "cell_type": "markdown",
   "id": "14322c6a",
   "metadata": {},
   "source": [
    "# 1. Импорт библиотек и загрузка данных"
   ]
  },
  {
   "cell_type": "code",
   "execution_count": 1,
   "id": "7c688d0d",
   "metadata": {
    "scrolled": true
   },
   "outputs": [
    {
     "name": "stdout",
     "output_type": "stream",
     "text": [
      "Транзакции:\n",
      "                         transaction_id                             client_id  \\\n",
      "0  ff36597c-df41-44a0-9f46-6aa1fe615270  1ec5ab91-fdd0-4925-a221-f0c4e04fe0e7   \n",
      "1  0d5263ec-413d-44d9-a9d3-a996e3a56b05  c940f45c-d29b-439a-8fa3-f75018cef528   \n",
      "2  5e9a8978-df1c-483f-a53b-16149c93f11e  cfa21d7e-8499-43d0-9dfb-f4a1b94ce44c   \n",
      "3  524031ea-56e2-410a-aee2-e8fc6ae3fbc5                                   NaN   \n",
      "4  421aaf04-c97d-42ac-b35f-09a56bbaf910  3f43d7bc-37f0-4535-8391-51702d6ff81e   \n",
      "\n",
      "      transaction_date                    service        amount  \\\n",
      "0  2025-01-04 00:02:20  Структурирование капитала  55838.059789   \n",
      "1  2025-03-10 17:16:50  Структурирование капитала  37514.809209   \n",
      "2  2025-02-13 19:43:49  Структурирование капитала  21022.146872   \n",
      "3  2025-03-02 03:14:10    Финансовое планирование   2313.980219   \n",
      "4  2025-03-18 21:00:36  Структурирование капитала   5636.586955   \n",
      "\n",
      "       payment_method                city       consultant  \n",
      "0  Банковский перевод   North Patrickport    Cheryl Waller  \n",
      "1          Неизвестно     New Zacharyport    Frank Pollard  \n",
      "2          Неизвестно  Port Michellemouth  Alexandra Meyer  \n",
      "3          Неизвестно           Erichaven    Patricia Haas  \n",
      "4          Неизвестно            Bondstad     Melissa Pena  \n",
      "\n",
      "Клиенты:\n",
      "                                     id   age   gender   net_worth\n",
      "0  1ec5ab91-fdd0-4925-a221-f0c4e04fe0e7  41.0  Мужчина  2514729.46\n",
      "1  c940f45c-d29b-439a-8fa3-f75018cef528  28.0  Мужчина   566568.29\n",
      "2  cfa21d7e-8499-43d0-9dfb-f4a1b94ce44c  55.0  Женщина  1896001.28\n",
      "3                                  None  38.0  Женщина  4538759.60\n",
      "4  3f43d7bc-37f0-4535-8391-51702d6ff81e  31.0  Мужчина  4865849.92\n"
     ]
    }
   ],
   "source": [
    "import pandas as pd\n",
    "import numpy as np\n",
    "import matplotlib.pyplot as plt\n",
    "import numpy as np\n",
    "import seaborn as sns\n",
    "\n",
    "from datetime import datetime\n",
    "from sklearn.linear_model import LinearRegression\n",
    "from sklearn.ensemble import RandomForestClassifier\n",
    "from sklearn.model_selection import train_test_split\n",
    "from sklearn.utils import check_array\n",
    "\n",
    "# Загрузка файлов\n",
    "transactions = pd.read_excel(\"transactions_data.xlsx\")\n",
    "clients = pd.read_json(\"clients_data.json\")\n",
    "\n",
    "# Первичный осмотр\n",
    "print(\"Транзакции:\")\n",
    "print(transactions.head())\n",
    "print(\"\\nКлиенты:\")\n",
    "print(clients.head())"
   ]
  },
  {
   "cell_type": "code",
   "execution_count": 2,
   "id": "57ab6b7e",
   "metadata": {},
   "outputs": [
    {
     "name": "stdout",
     "output_type": "stream",
     "text": [
      "<class 'pandas.core.frame.DataFrame'>\n",
      "RangeIndex: 10000 entries, 0 to 9999\n",
      "Data columns (total 8 columns):\n",
      " #   Column            Non-Null Count  Dtype  \n",
      "---  ------            --------------  -----  \n",
      " 0   transaction_id    9526 non-null   object \n",
      " 1   client_id         9798 non-null   object \n",
      " 2   transaction_date  10000 non-null  object \n",
      " 3   service           10000 non-null  object \n",
      " 4   amount            9540 non-null   float64\n",
      " 5   payment_method    10000 non-null  object \n",
      " 6   city              10000 non-null  object \n",
      " 7   consultant        10000 non-null  object \n",
      "dtypes: float64(1), object(7)\n",
      "memory usage: 625.1+ KB\n",
      "<class 'pandas.core.frame.DataFrame'>\n",
      "RangeIndex: 9799 entries, 0 to 9798\n",
      "Data columns (total 4 columns):\n",
      " #   Column     Non-Null Count  Dtype  \n",
      "---  ------     --------------  -----  \n",
      " 0   id         9798 non-null   object \n",
      " 1   age        8816 non-null   float64\n",
      " 2   gender     6480 non-null   object \n",
      " 3   net_worth  9324 non-null   float64\n",
      "dtypes: float64(2), object(2)\n",
      "memory usage: 306.3+ KB\n"
     ]
    }
   ],
   "source": [
    "transactions.info()\n",
    "clients.info()"
   ]
  },
  {
   "cell_type": "code",
   "execution_count": 3,
   "id": "407c14d4",
   "metadata": {},
   "outputs": [
    {
     "data": {
      "text/html": [
       "<div>\n",
       "<style scoped>\n",
       "    .dataframe tbody tr th:only-of-type {\n",
       "        vertical-align: middle;\n",
       "    }\n",
       "\n",
       "    .dataframe tbody tr th {\n",
       "        vertical-align: top;\n",
       "    }\n",
       "\n",
       "    .dataframe thead th {\n",
       "        text-align: right;\n",
       "    }\n",
       "</style>\n",
       "<table border=\"1\" class=\"dataframe\">\n",
       "  <thead>\n",
       "    <tr style=\"text-align: right;\">\n",
       "      <th></th>\n",
       "      <th>id</th>\n",
       "      <th>age</th>\n",
       "      <th>gender</th>\n",
       "      <th>net_worth</th>\n",
       "    </tr>\n",
       "  </thead>\n",
       "  <tbody>\n",
       "    <tr>\n",
       "      <th>count</th>\n",
       "      <td>9798</td>\n",
       "      <td>8816.000000</td>\n",
       "      <td>6480</td>\n",
       "      <td>9.324000e+03</td>\n",
       "    </tr>\n",
       "    <tr>\n",
       "      <th>unique</th>\n",
       "      <td>9798</td>\n",
       "      <td>NaN</td>\n",
       "      <td>2</td>\n",
       "      <td>NaN</td>\n",
       "    </tr>\n",
       "    <tr>\n",
       "      <th>top</th>\n",
       "      <td>1ec5ab91-fdd0-4925-a221-f0c4e04fe0e7</td>\n",
       "      <td>NaN</td>\n",
       "      <td>Женщина</td>\n",
       "      <td>NaN</td>\n",
       "    </tr>\n",
       "    <tr>\n",
       "      <th>freq</th>\n",
       "      <td>1</td>\n",
       "      <td>NaN</td>\n",
       "      <td>3286</td>\n",
       "      <td>NaN</td>\n",
       "    </tr>\n",
       "    <tr>\n",
       "      <th>mean</th>\n",
       "      <td>NaN</td>\n",
       "      <td>40.052291</td>\n",
       "      <td>NaN</td>\n",
       "      <td>2.501561e+06</td>\n",
       "    </tr>\n",
       "    <tr>\n",
       "      <th>std</th>\n",
       "      <td>NaN</td>\n",
       "      <td>11.823810</td>\n",
       "      <td>NaN</td>\n",
       "      <td>1.430787e+06</td>\n",
       "    </tr>\n",
       "    <tr>\n",
       "      <th>min</th>\n",
       "      <td>NaN</td>\n",
       "      <td>20.000000</td>\n",
       "      <td>NaN</td>\n",
       "      <td>1.021397e+04</td>\n",
       "    </tr>\n",
       "    <tr>\n",
       "      <th>25%</th>\n",
       "      <td>NaN</td>\n",
       "      <td>30.000000</td>\n",
       "      <td>NaN</td>\n",
       "      <td>1.263024e+06</td>\n",
       "    </tr>\n",
       "    <tr>\n",
       "      <th>50%</th>\n",
       "      <td>NaN</td>\n",
       "      <td>40.000000</td>\n",
       "      <td>NaN</td>\n",
       "      <td>2.488230e+06</td>\n",
       "    </tr>\n",
       "    <tr>\n",
       "      <th>75%</th>\n",
       "      <td>NaN</td>\n",
       "      <td>50.000000</td>\n",
       "      <td>NaN</td>\n",
       "      <td>3.727101e+06</td>\n",
       "    </tr>\n",
       "    <tr>\n",
       "      <th>max</th>\n",
       "      <td>NaN</td>\n",
       "      <td>60.000000</td>\n",
       "      <td>NaN</td>\n",
       "      <td>4.999428e+06</td>\n",
       "    </tr>\n",
       "  </tbody>\n",
       "</table>\n",
       "</div>"
      ],
      "text/plain": [
       "                                          id          age   gender  \\\n",
       "count                                   9798  8816.000000     6480   \n",
       "unique                                  9798          NaN        2   \n",
       "top     1ec5ab91-fdd0-4925-a221-f0c4e04fe0e7          NaN  Женщина   \n",
       "freq                                       1          NaN     3286   \n",
       "mean                                     NaN    40.052291      NaN   \n",
       "std                                      NaN    11.823810      NaN   \n",
       "min                                      NaN    20.000000      NaN   \n",
       "25%                                      NaN    30.000000      NaN   \n",
       "50%                                      NaN    40.000000      NaN   \n",
       "75%                                      NaN    50.000000      NaN   \n",
       "max                                      NaN    60.000000      NaN   \n",
       "\n",
       "           net_worth  \n",
       "count   9.324000e+03  \n",
       "unique           NaN  \n",
       "top              NaN  \n",
       "freq             NaN  \n",
       "mean    2.501561e+06  \n",
       "std     1.430787e+06  \n",
       "min     1.021397e+04  \n",
       "25%     1.263024e+06  \n",
       "50%     2.488230e+06  \n",
       "75%     3.727101e+06  \n",
       "max     4.999428e+06  "
      ]
     },
     "execution_count": 3,
     "metadata": {},
     "output_type": "execute_result"
    }
   ],
   "source": [
    "# Быстрый просмотр статистики\n",
    "transactions.describe(include='all')\n",
    "clients.describe(include='all')"
   ]
  },
  {
   "cell_type": "code",
   "execution_count": 4,
   "id": "8ef7029c",
   "metadata": {},
   "outputs": [
    {
     "data": {
      "text/plain": [
       "id              1\n",
       "age           983\n",
       "gender       3319\n",
       "net_worth     475\n",
       "dtype: int64"
      ]
     },
     "execution_count": 4,
     "metadata": {},
     "output_type": "execute_result"
    }
   ],
   "source": [
    "# Пропущенные значения (transactions)\n",
    "transactions.isnull().sum()\n",
    "\n",
    "# Пропущенные значения (clients)\n",
    "clients.isnull().sum()"
   ]
  },
  {
   "cell_type": "code",
   "execution_count": 5,
   "id": "edb25622",
   "metadata": {
    "scrolled": true
   },
   "outputs": [
    {
     "data": {
      "text/html": [
       "<div>\n",
       "<style scoped>\n",
       "    .dataframe tbody tr th:only-of-type {\n",
       "        vertical-align: middle;\n",
       "    }\n",
       "\n",
       "    .dataframe tbody tr th {\n",
       "        vertical-align: top;\n",
       "    }\n",
       "\n",
       "    .dataframe thead th {\n",
       "        text-align: right;\n",
       "    }\n",
       "</style>\n",
       "<table border=\"1\" class=\"dataframe\">\n",
       "  <thead>\n",
       "    <tr style=\"text-align: right;\">\n",
       "      <th></th>\n",
       "      <th>transaction_id</th>\n",
       "      <th>client_id</th>\n",
       "      <th>transaction_date</th>\n",
       "      <th>service</th>\n",
       "      <th>amount</th>\n",
       "      <th>payment_method</th>\n",
       "      <th>city</th>\n",
       "      <th>consultant</th>\n",
       "    </tr>\n",
       "  </thead>\n",
       "  <tbody>\n",
       "    <tr>\n",
       "      <th>17</th>\n",
       "      <td>125e15aa-1510-436d-b32f-79cc79bd2203</td>\n",
       "      <td>92c2cf71-fbc1-41aa-a88b-f2b702a7e946</td>\n",
       "      <td>NaT</td>\n",
       "      <td>Финансовое планирование</td>\n",
       "      <td>36818.406045</td>\n",
       "      <td>Наличные</td>\n",
       "      <td>Jeanettetown</td>\n",
       "      <td>Sarah Alvarez</td>\n",
       "    </tr>\n",
       "    <tr>\n",
       "      <th>18</th>\n",
       "      <td>bf0c08ab-c118-4155-91f4-95f09fe6a1fa</td>\n",
       "      <td>fedfe1eb-e79a-4527-9dd9-991af7e2b34d</td>\n",
       "      <td>NaT</td>\n",
       "      <td>Налоговое планирование</td>\n",
       "      <td>36896.308910</td>\n",
       "      <td>Кредитная карта</td>\n",
       "      <td>North Patrickport</td>\n",
       "      <td>Michelle Morse</td>\n",
       "    </tr>\n",
       "    <tr>\n",
       "      <th>25</th>\n",
       "      <td>190ce3c6-8657-437b-b3ba-1cc21dbbe421</td>\n",
       "      <td>53a3dcf3-3707-4fff-b1e1-ee2c4f357e1d</td>\n",
       "      <td>NaT</td>\n",
       "      <td>Управление активами</td>\n",
       "      <td>99420.587888</td>\n",
       "      <td>Наличные</td>\n",
       "      <td>Davidsonborough</td>\n",
       "      <td>Judith Hansen</td>\n",
       "    </tr>\n",
       "    <tr>\n",
       "      <th>29</th>\n",
       "      <td>e352563f-985f-46cb-9b1e-37ff7995b338</td>\n",
       "      <td>53113fae-453b-464b-8e39-a0337fc727e1</td>\n",
       "      <td>NaT</td>\n",
       "      <td>Инвестиционное консультирование</td>\n",
       "      <td>10711.465497</td>\n",
       "      <td>Банковский перевод</td>\n",
       "      <td>Cruzport</td>\n",
       "      <td>Ronald Benson</td>\n",
       "    </tr>\n",
       "    <tr>\n",
       "      <th>47</th>\n",
       "      <td>f88d0325-637c-4b0b-ad44-954aee483243</td>\n",
       "      <td>926eb57c-e1b9-41b2-a9e8-a3723563c505</td>\n",
       "      <td>NaT</td>\n",
       "      <td>Неизвестная услуга</td>\n",
       "      <td>2348.978021</td>\n",
       "      <td>Кредитная карта</td>\n",
       "      <td>Lake Tina</td>\n",
       "      <td>Kathryn Young</td>\n",
       "    </tr>\n",
       "    <tr>\n",
       "      <th>...</th>\n",
       "      <td>...</td>\n",
       "      <td>...</td>\n",
       "      <td>...</td>\n",
       "      <td>...</td>\n",
       "      <td>...</td>\n",
       "      <td>...</td>\n",
       "      <td>...</td>\n",
       "      <td>...</td>\n",
       "    </tr>\n",
       "    <tr>\n",
       "      <th>9963</th>\n",
       "      <td>8b8a2648-3982-4e13-8c5a-8d10e4129576</td>\n",
       "      <td>ed9c332f-d02a-411b-9414-9dec002b8821</td>\n",
       "      <td>NaT</td>\n",
       "      <td>Управление активами</td>\n",
       "      <td>15904.945889</td>\n",
       "      <td>Банковский перевод</td>\n",
       "      <td>New Ryan</td>\n",
       "      <td>Mario Jones</td>\n",
       "    </tr>\n",
       "    <tr>\n",
       "      <th>9969</th>\n",
       "      <td>c186062d-b9e6-466c-abad-97a708fe90c3</td>\n",
       "      <td>fdee4854-6c12-47a0-a561-710264ce9d24</td>\n",
       "      <td>NaT</td>\n",
       "      <td>Инвестиционное консультирование</td>\n",
       "      <td>79709.903415</td>\n",
       "      <td>Банковский перевод</td>\n",
       "      <td>Hamiltontown</td>\n",
       "      <td>Gregory Williams</td>\n",
       "    </tr>\n",
       "    <tr>\n",
       "      <th>9975</th>\n",
       "      <td>920abb78-41ac-442f-bf02-50398562022a</td>\n",
       "      <td>59859b6f-458d-4a72-88ee-48dba4e61574</td>\n",
       "      <td>NaT</td>\n",
       "      <td>Инвестиционное консультирование</td>\n",
       "      <td>13579.842832</td>\n",
       "      <td>Кредитная карта</td>\n",
       "      <td>Patelbury</td>\n",
       "      <td>Judith Hansen</td>\n",
       "    </tr>\n",
       "    <tr>\n",
       "      <th>9977</th>\n",
       "      <td>d234eaa5-47c4-4221-9fcf-dac69c9a591a</td>\n",
       "      <td>041d30db-6572-46de-9a57-18b1c9f24034</td>\n",
       "      <td>NaT</td>\n",
       "      <td>Управление активами</td>\n",
       "      <td>32927.948723</td>\n",
       "      <td>Банковский перевод</td>\n",
       "      <td>Michellehaven</td>\n",
       "      <td>Julie Jones</td>\n",
       "    </tr>\n",
       "    <tr>\n",
       "      <th>9996</th>\n",
       "      <td>2234c632-4ee9-4564-8640-dd6b76838487</td>\n",
       "      <td>d2a4a79b-26ba-41c9-b720-1362b9f464f0</td>\n",
       "      <td>NaT</td>\n",
       "      <td>Финансовое планирование</td>\n",
       "      <td>19895.571828</td>\n",
       "      <td>Кредитная карта</td>\n",
       "      <td>Davidsonborough</td>\n",
       "      <td>Ronald Shepherd</td>\n",
       "    </tr>\n",
       "  </tbody>\n",
       "</table>\n",
       "<p>1005 rows × 8 columns</p>\n",
       "</div>"
      ],
      "text/plain": [
       "                            transaction_id  \\\n",
       "17    125e15aa-1510-436d-b32f-79cc79bd2203   \n",
       "18    bf0c08ab-c118-4155-91f4-95f09fe6a1fa   \n",
       "25    190ce3c6-8657-437b-b3ba-1cc21dbbe421   \n",
       "29    e352563f-985f-46cb-9b1e-37ff7995b338   \n",
       "47    f88d0325-637c-4b0b-ad44-954aee483243   \n",
       "...                                    ...   \n",
       "9963  8b8a2648-3982-4e13-8c5a-8d10e4129576   \n",
       "9969  c186062d-b9e6-466c-abad-97a708fe90c3   \n",
       "9975  920abb78-41ac-442f-bf02-50398562022a   \n",
       "9977  d234eaa5-47c4-4221-9fcf-dac69c9a591a   \n",
       "9996  2234c632-4ee9-4564-8640-dd6b76838487   \n",
       "\n",
       "                                 client_id transaction_date  \\\n",
       "17    92c2cf71-fbc1-41aa-a88b-f2b702a7e946              NaT   \n",
       "18    fedfe1eb-e79a-4527-9dd9-991af7e2b34d              NaT   \n",
       "25    53a3dcf3-3707-4fff-b1e1-ee2c4f357e1d              NaT   \n",
       "29    53113fae-453b-464b-8e39-a0337fc727e1              NaT   \n",
       "47    926eb57c-e1b9-41b2-a9e8-a3723563c505              NaT   \n",
       "...                                    ...              ...   \n",
       "9963  ed9c332f-d02a-411b-9414-9dec002b8821              NaT   \n",
       "9969  fdee4854-6c12-47a0-a561-710264ce9d24              NaT   \n",
       "9975  59859b6f-458d-4a72-88ee-48dba4e61574              NaT   \n",
       "9977  041d30db-6572-46de-9a57-18b1c9f24034              NaT   \n",
       "9996  d2a4a79b-26ba-41c9-b720-1362b9f464f0              NaT   \n",
       "\n",
       "                              service        amount      payment_method  \\\n",
       "17            Финансовое планирование  36818.406045            Наличные   \n",
       "18             Налоговое планирование  36896.308910     Кредитная карта   \n",
       "25                Управление активами  99420.587888            Наличные   \n",
       "29    Инвестиционное консультирование  10711.465497  Банковский перевод   \n",
       "47                 Неизвестная услуга   2348.978021     Кредитная карта   \n",
       "...                               ...           ...                 ...   \n",
       "9963              Управление активами  15904.945889  Банковский перевод   \n",
       "9969  Инвестиционное консультирование  79709.903415  Банковский перевод   \n",
       "9975  Инвестиционное консультирование  13579.842832     Кредитная карта   \n",
       "9977              Управление активами  32927.948723  Банковский перевод   \n",
       "9996          Финансовое планирование  19895.571828     Кредитная карта   \n",
       "\n",
       "                   city        consultant  \n",
       "17         Jeanettetown     Sarah Alvarez  \n",
       "18    North Patrickport    Michelle Morse  \n",
       "25      Davidsonborough     Judith Hansen  \n",
       "29             Cruzport     Ronald Benson  \n",
       "47            Lake Tina     Kathryn Young  \n",
       "...                 ...               ...  \n",
       "9963           New Ryan       Mario Jones  \n",
       "9969       Hamiltontown  Gregory Williams  \n",
       "9975          Patelbury     Judith Hansen  \n",
       "9977      Michellehaven       Julie Jones  \n",
       "9996    Davidsonborough   Ronald Shepherd  \n",
       "\n",
       "[1005 rows x 8 columns]"
      ]
     },
     "execution_count": 5,
     "metadata": {},
     "output_type": "execute_result"
    }
   ],
   "source": [
    "# Типы данных\n",
    "transactions.dtypes\n",
    "\n",
    "# Преобразуем transaction_date в дату (если ещё не сделано)\n",
    "transactions[\"transaction_date\"] = pd.to_datetime(transactions[\"transaction_date\"], errors=\"coerce\")\n",
    "\n",
    "# Проверим, остались ли ошибки (NaT)\n",
    "transactions[transactions[\"transaction_date\"].isnull()]"
   ]
  },
  {
   "cell_type": "code",
   "execution_count": 6,
   "id": "5bb48bae",
   "metadata": {},
   "outputs": [
    {
     "data": {
      "text/html": [
       "<div>\n",
       "<style scoped>\n",
       "    .dataframe tbody tr th:only-of-type {\n",
       "        vertical-align: middle;\n",
       "    }\n",
       "\n",
       "    .dataframe tbody tr th {\n",
       "        vertical-align: top;\n",
       "    }\n",
       "\n",
       "    .dataframe thead th {\n",
       "        text-align: right;\n",
       "    }\n",
       "</style>\n",
       "<table border=\"1\" class=\"dataframe\">\n",
       "  <thead>\n",
       "    <tr style=\"text-align: right;\">\n",
       "      <th></th>\n",
       "      <th>transaction_id</th>\n",
       "      <th>client_id</th>\n",
       "      <th>transaction_date</th>\n",
       "      <th>service</th>\n",
       "      <th>amount</th>\n",
       "      <th>payment_method</th>\n",
       "      <th>city</th>\n",
       "      <th>consultant</th>\n",
       "    </tr>\n",
       "  </thead>\n",
       "  <tbody>\n",
       "  </tbody>\n",
       "</table>\n",
       "</div>"
      ],
      "text/plain": [
       "Empty DataFrame\n",
       "Columns: [transaction_id, client_id, transaction_date, service, amount, payment_method, city, consultant]\n",
       "Index: []"
      ]
     },
     "execution_count": 6,
     "metadata": {},
     "output_type": "execute_result"
    }
   ],
   "source": [
    "# Отрицательные значения\n",
    "transactions[transactions[\"amount\"] < 0]"
   ]
  },
  {
   "cell_type": "code",
   "execution_count": 7,
   "id": "5ab4b376",
   "metadata": {},
   "outputs": [
    {
     "data": {
      "text/plain": [
       "0"
      ]
     },
     "execution_count": 7,
     "metadata": {},
     "output_type": "execute_result"
    }
   ],
   "source": [
    "# Дубликкаты (transactions)\n",
    "transactions.duplicated().sum()\n",
    "\n",
    "# Дубликаты (clients)\n",
    "clients.duplicated().sum()"
   ]
  },
  {
   "cell_type": "markdown",
   "id": "1175623a",
   "metadata": {},
   "source": [
    "## 1.1. Очистка и подготовка данных"
   ]
  },
  {
   "cell_type": "markdown",
   "id": "773a876e",
   "metadata": {},
   "source": [
    "### 1.1.1. Пропущенные значения в clients:"
   ]
  },
  {
   "cell_type": "code",
   "execution_count": 8,
   "id": "64cba0ad",
   "metadata": {},
   "outputs": [],
   "source": [
    "# Копии для безопасности\n",
    "transactions_clean = transactions.copy()\n",
    "clients_clean = clients.copy()"
   ]
  },
  {
   "cell_type": "markdown",
   "id": "98fb251c",
   "metadata": {},
   "source": [
    "### 1.1.2. Удалим строки с NaT в датах транзакций:"
   ]
  },
  {
   "cell_type": "code",
   "execution_count": 9,
   "id": "4c162cca",
   "metadata": {},
   "outputs": [],
   "source": [
    "transactions_clean = transactions_clean.dropna(subset=[\"transaction_date\"])"
   ]
  },
  {
   "cell_type": "markdown",
   "id": "131881ab",
   "metadata": {},
   "source": [
    "### 1.1.3. Удалим отрицательные суммы:"
   ]
  },
  {
   "cell_type": "code",
   "execution_count": 10,
   "id": "5915c207",
   "metadata": {},
   "outputs": [],
   "source": [
    "transactions_clean = transactions_clean[transactions_clean[\"amount\"] >= 0]"
   ]
  },
  {
   "cell_type": "markdown",
   "id": "7126c563",
   "metadata": {},
   "source": [
    "### 1.1.4. Удалим клиентов без net_worth (важно для анализа):"
   ]
  },
  {
   "cell_type": "code",
   "execution_count": 11,
   "id": "6cd6e589",
   "metadata": {},
   "outputs": [],
   "source": [
    "clients_clean = clients_clean.dropna(subset=[\"net_worth\"])"
   ]
  },
  {
   "cell_type": "code",
   "execution_count": 12,
   "id": "a82c9d8f",
   "metadata": {},
   "outputs": [],
   "source": [
    "# Заполним возраст медианой (возраст важен для анализа)\n",
    "clients_clean[\"age\"] = clients_clean[\"age\"].fillna(clients_clean[\"age\"].median())\n",
    "\n",
    "# Пол можно заменить на \"Не указан\"\n",
    "clients_clean[\"gender\"] = clients_clean[\"gender\"].fillna(\"Не указан\")"
   ]
  },
  {
   "cell_type": "code",
   "execution_count": 13,
   "id": "b700ec7c",
   "metadata": {},
   "outputs": [],
   "source": [
    "# Удалим лишние пробелы в названиях колонок\n",
    "clients_clean.columns = clients_clean.columns.str.strip()\n",
    "\n",
    "# Убедимся, что колонка client_id названа правильно\n",
    "clients_clean = clients_clean.rename(columns={\"id\": \"client_id\"})"
   ]
  },
  {
   "cell_type": "code",
   "execution_count": 14,
   "id": "cc51aa83",
   "metadata": {},
   "outputs": [],
   "source": [
    "df_merged = pd.merge(transactions_clean, clients_clean, on=\"client_id\", how=\"inner\")"
   ]
  },
  {
   "cell_type": "markdown",
   "id": "959821b0",
   "metadata": {},
   "source": [
    "# 2. Анализ данных (на основе очищенной таблицы transactions_clean)"
   ]
  },
  {
   "cell_type": "markdown",
   "id": "03fbbe88",
   "metadata": {},
   "source": [
    "## 2.1. Топ-5 популярных услуг по количеству заказов:"
   ]
  },
  {
   "cell_type": "code",
   "execution_count": 15,
   "id": "f10942ee",
   "metadata": {},
   "outputs": [
    {
     "name": "stdout",
     "output_type": "stream",
     "text": [
      "Инвестиционное консультирование    2085\n",
      "Управление активами                1729\n",
      "Налоговое планирование             1316\n",
      "Финансовое планирование            1315\n",
      "Структурирование капитала          1287\n",
      "Name: service, dtype: int64\n"
     ]
    }
   ],
   "source": [
    "top_services = transactions_clean[\"service\"].value_counts().head(5)\n",
    "print(top_services)"
   ]
  },
  {
   "cell_type": "markdown",
   "id": "dff6a863",
   "metadata": {},
   "source": [
    "## 2.2. Средняя сумма транзакции по каждому городу:"
   ]
  },
  {
   "cell_type": "code",
   "execution_count": 16,
   "id": "5227ee75",
   "metadata": {},
   "outputs": [
    {
     "name": "stdout",
     "output_type": "stream",
     "text": [
      "city\n",
      "Michellehaven         58024.532632\n",
      "Port Michellemouth    56660.590026\n",
      "East Rachelmouth      56453.352426\n",
      "Trevinoberg           54093.327661\n",
      "New Tommyborough      53437.843964\n",
      "North Lauriebury      53401.117861\n",
      "New Zacharyport       53093.744436\n",
      "Johnsonfort           53051.472548\n",
      "Bondstad              52447.373883\n",
      "North Melissaland     52203.444283\n",
      "Lake Arielmouth       52201.011233\n",
      "Kaneburgh             52156.990578\n",
      "Aprilstad             51990.320596\n",
      "Krystalland           51359.333854\n",
      "Lake Tina             51109.656785\n",
      "Patelbury             51107.481279\n",
      "Harrisberg            50752.572597\n",
      "North Emily           50667.882322\n",
      "Davidsonborough       50587.723710\n",
      "North Hannahmouth     50321.193073\n",
      "Erichaven             50258.091162\n",
      "West Meredithhaven    50135.350464\n",
      "South Andrew          50022.495370\n",
      "East Matthewmouth     49552.919247\n",
      "Port Jordan           49534.527059\n",
      "Ronaldville           49482.304448\n",
      "Hamiltontown          49169.418431\n",
      "Mayoberg              48952.661857\n",
      "Dannyburgh            48766.339505\n",
      "Port Darlene          48703.107491\n",
      "Неизвестный город     48664.504333\n",
      "New Chelseaberg       48651.560532\n",
      "Port James            48508.359947\n",
      "Karenville            48130.414300\n",
      "East Melissaville     48066.605129\n",
      "Tonystad              48011.690604\n",
      "South Thomas          47431.065053\n",
      "North Patrickport     47255.687491\n",
      "Roberttown            47138.688899\n",
      "Ibarramouth           46882.964247\n",
      "Davidmouth            46044.557610\n",
      "West Jaymouth         46025.109007\n",
      "New Dianechester      45990.367772\n",
      "Cruzport              45832.174376\n",
      "Lake Sallychester     45800.223796\n",
      "Matthewsville         44597.375035\n",
      "Mirandaside           44507.787880\n",
      "New Ryan              43918.490068\n",
      "Jeanettetown          43832.732769\n",
      "Elizabethmouth        43392.641240\n",
      "East Jamie            42866.716928\n",
      "Name: amount, dtype: float64\n"
     ]
    }
   ],
   "source": [
    "avg_amount_by_city = transactions_clean.groupby(\"city\")[\"amount\"].mean().sort_values(ascending=False)\n",
    "print(avg_amount_by_city)"
   ]
  },
  {
   "cell_type": "markdown",
   "id": "222dc10c",
   "metadata": {},
   "source": [
    "## 2.3. Услуга с наибольшей выручкой:"
   ]
  },
  {
   "cell_type": "code",
   "execution_count": 17,
   "id": "8d565ce9",
   "metadata": {},
   "outputs": [
    {
     "name": "stdout",
     "output_type": "stream",
     "text": [
      "service\n",
      "Инвестиционное консультирование    1.042091e+08\n",
      "Name: amount, dtype: float64\n"
     ]
    }
   ],
   "source": [
    "revenue_by_service = transactions_clean.groupby(\"service\")[\"amount\"].sum().sort_values(ascending=False)\n",
    "print(revenue_by_service.head(1))  # топ-1"
   ]
  },
  {
   "cell_type": "markdown",
   "id": "ff233d12",
   "metadata": {},
   "source": [
    "## 2.4. Процент транзакций по способу оплаты:"
   ]
  },
  {
   "cell_type": "code",
   "execution_count": 18,
   "id": "be19d23d",
   "metadata": {},
   "outputs": [
    {
     "name": "stdout",
     "output_type": "stream",
     "text": [
      "Кредитная карта       39.906760\n",
      "Банковский перевод    34.603730\n",
      "Неизвестно            10.291375\n",
      "Наличные               9.871795\n",
      "Криптовалюта           5.326340\n",
      "Name: payment_method, dtype: float64\n"
     ]
    }
   ],
   "source": [
    "payment_method_pct = transactions_clean[\"payment_method\"].value_counts(normalize=True) * 100\n",
    "print(payment_method_pct)"
   ]
  },
  {
   "cell_type": "markdown",
   "id": "833b5c8b",
   "metadata": {},
   "source": [
    "## 2.5. Выручка за последний месяц:"
   ]
  },
  {
   "cell_type": "code",
   "execution_count": 19,
   "id": "33ab3deb",
   "metadata": {},
   "outputs": [
    {
     "name": "stdout",
     "output_type": "stream",
     "text": [
      "Выручка за последний месяц (March 2025): 150,974,354.20\n"
     ]
    }
   ],
   "source": [
    "# Приводим к datetime, если не уверены\n",
    "transactions_clean[\"transaction_date\"] = pd.to_datetime(transactions_clean[\"transaction_date\"])\n",
    "\n",
    "# Последняя дата в данных\n",
    "last_date = transactions_clean[\"transaction_date\"].max()\n",
    "\n",
    "# Фильтр на последний месяц\n",
    "last_month_data = transactions_clean[\n",
    "    (transactions_clean[\"transaction_date\"] >= last_date - pd.DateOffset(months=1))\n",
    "]\n",
    "\n",
    "# Суммарная выручка\n",
    "last_month_revenue = last_month_data[\"amount\"].sum()\n",
    "print(f\"Выручка за последний месяц ({last_date.strftime('%B %Y')}): {last_month_revenue:,.2f}\")"
   ]
  },
  {
   "cell_type": "markdown",
   "id": "70a3bbb6",
   "metadata": {},
   "source": [
    "# 3. Объединение с клиентами"
   ]
  },
  {
   "cell_type": "markdown",
   "id": "654e83f8",
   "metadata": {},
   "source": [
    "Цель:\n",
    "\n",
    "1. Объединить таблицы transactions_clean и clients_clean по client_id\n",
    "\n",
    "2. Создать колонку wealth_level:\n",
    "\n",
    "* < 100 000 — \"Низкий капитал\"\n",
    "\n",
    "* 100 000 - 1 000 000 — \"Средний капитал\"\n",
    "\n",
    "* .> 1 000 000 — \"Высокий капитал\"\n",
    "\n",
    "3. Посчитать выручку по этим группам"
   ]
  },
  {
   "cell_type": "markdown",
   "id": "204c5d32",
   "metadata": {},
   "source": [
    "## 3.1. Объединение данных по client_id + Анализ по wealth_level"
   ]
  },
  {
   "cell_type": "code",
   "execution_count": 20,
   "id": "cd3fd7ba",
   "metadata": {},
   "outputs": [
    {
     "name": "stdout",
     "output_type": "stream",
     "text": [
      "wealth_level\n",
      "Высокий капитал    3.275854e+08\n",
      "Средний капитал    6.797703e+07\n",
      "Низкий капитал     7.200351e+06\n",
      "Name: amount, dtype: float64\n"
     ]
    }
   ],
   "source": [
    "# Объединяем таблицы по client_id (inner join, чтобы убрать \"потерянных клиентов\")\n",
    "df_merged = pd.merge(transactions_clean, clients_clean, on=\"client_id\", how=\"inner\")\n",
    "\n",
    "# Создаём колонку с категорией капитала\n",
    "def get_wealth_level(net_worth):\n",
    "    if net_worth < 100_000:\n",
    "        return \"Низкий капитал\"\n",
    "    elif 100_000 <= net_worth <= 1_000_000:\n",
    "        return \"Средний капитал\"\n",
    "    else:\n",
    "        return \"Высокий капитал\"\n",
    "\n",
    "df_merged[\"wealth_level\"] = df_merged[\"net_worth\"].apply(get_wealth_level)\n",
    "\n",
    "# Суммарная выручка по уровням капитала\n",
    "revenue_by_wealth = df_merged.groupby(\"wealth_level\")[\"amount\"].sum().sort_values(ascending=False)\n",
    "\n",
    "print(revenue_by_wealth)"
   ]
  },
  {
   "cell_type": "markdown",
   "id": "29f75748",
   "metadata": {},
   "source": [
    "## 3.2. Объединение данных"
   ]
  },
  {
   "cell_type": "code",
   "execution_count": 21,
   "id": "01d58cf6",
   "metadata": {},
   "outputs": [],
   "source": [
    "# Теперь объединим transactions_clean и clients_clean по колонке client_id:\n",
    "df_merged = pd.merge(transactions_clean, clients_clean, on=\"client_id\", how=\"inner\")"
   ]
  },
  {
   "cell_type": "markdown",
   "id": "93fade43",
   "metadata": {},
   "source": [
    "## 3.3. Добавим уровень активов (asset_level)"
   ]
  },
  {
   "cell_type": "markdown",
   "id": "40fe762e",
   "metadata": {},
   "source": [
    "1.Категории по net_worth:\n",
    "\n",
    "* < 100 000 → низкий капитал\n",
    "\n",
    "* 100 000 – 1 000 000 → средний капитал\n",
    "\n",
    "* .> 1 000 000 → высокий капитал\n",
    "\n",
    "2.Добавим колонку asset_level:"
   ]
  },
  {
   "cell_type": "code",
   "execution_count": 22,
   "id": "57074a18",
   "metadata": {},
   "outputs": [],
   "source": [
    "def asset_category(net_worth):\n",
    "    if net_worth < 100_000:\n",
    "        return \"Низкий капитал\"\n",
    "    elif net_worth <= 1_000_000:\n",
    "        return \"Средний капитал\"\n",
    "    else:\n",
    "        return \"Высокий капитал\"\n",
    "\n",
    "df_merged[\"asset_level\"] = df_merged[\"net_worth\"].apply(asset_category)"
   ]
  },
  {
   "cell_type": "markdown",
   "id": "982e8a38",
   "metadata": {},
   "source": [
    "## 3.4. Посчитаем выручку по категориям клиентов:"
   ]
  },
  {
   "cell_type": "code",
   "execution_count": 23,
   "id": "f809d939",
   "metadata": {},
   "outputs": [
    {
     "name": "stdout",
     "output_type": "stream",
     "text": [
      "asset_level\n",
      "Высокий капитал    3.275854e+08\n",
      "Средний капитал    6.797703e+07\n",
      "Низкий капитал     7.200351e+06\n",
      "Name: amount, dtype: float64\n"
     ]
    }
   ],
   "source": [
    "revenue_by_asset = df_merged.groupby(\"asset_level\")[\"amount\"].sum().sort_values(ascending=False)\n",
    "print(revenue_by_asset)"
   ]
  },
  {
   "cell_type": "markdown",
   "id": "284de1a5",
   "metadata": {},
   "source": [
    "# 4. Визуализация данных"
   ]
  },
  {
   "cell_type": "markdown",
   "id": "3a650317",
   "metadata": {},
   "source": [
    "## 4.1. Распределение сумм транзакций"
   ]
  },
  {
   "cell_type": "code",
   "execution_count": 24,
   "id": "e7814e15",
   "metadata": {},
   "outputs": [
    {
     "data": {
      "image/png": "[encoded data removed]",
      "text/plain": [
       "<Figure size 720x432 with 1 Axes>"
      ]
     },
     "metadata": {
      "needs_background": "light"
     },
     "output_type": "display_data"
    }
   ],
   "source": [
    "plt.figure(figsize=(10, 6))\n",
    "sns.histplot(df_merged[\"amount\"], bins=50, kde=True)\n",
    "plt.title(\"Распределение сумм транзакций\")\n",
    "plt.xlabel(\"Сумма транзакции\")\n",
    "plt.ylabel(\"Количество\")\n",
    "plt.grid(True)\n",
    "plt.show()"
   ]
  },
  {
   "cell_type": "markdown",
   "id": "48b67b9a",
   "metadata": {},
   "source": [
    "## 4.2. Диаграмма выручки по услугам"
   ]
  },
  {
   "cell_type": "code",
   "execution_count": 25,
   "id": "d77c316b",
   "metadata": {},
   "outputs": [
    {
     "data": {
      "image/png": "[encoded data removed]",
      "text/plain": [
       "<Figure size 720x432 with 1 Axes>"
      ]
     },
     "metadata": {
      "needs_background": "light"
     },
     "output_type": "display_data"
    }
   ],
   "source": [
    "plt.figure(figsize=(10, 6))\n",
    "service_revenue = df_merged.groupby(\"service\")[\"amount\"].sum().sort_values(ascending=False)\n",
    "sns.barplot(x=service_revenue.values, y=service_revenue.index)\n",
    "plt.title(\"Выручка по услугам\")\n",
    "plt.xlabel(\"Выручка\")\n",
    "plt.ylabel(\"Услуга\")\n",
    "plt.grid(True)\n",
    "plt.show()"
   ]
  },
  {
   "cell_type": "markdown",
   "id": "b371f6ab",
   "metadata": {},
   "source": [
    "## 4.3. Зависимость средней суммы транзакции от возраста клиентов"
   ]
  },
  {
   "cell_type": "code",
   "execution_count": 26,
   "id": "99bd6303",
   "metadata": {},
   "outputs": [
    {
     "data": {
      "image/png": "[encoded data removed]",
      "text/plain": [
       "<Figure size 720x432 with 1 Axes>"
      ]
     },
     "metadata": {
      "needs_background": "light"
     },
     "output_type": "display_data"
    }
   ],
   "source": [
    "age_avg_amount = df_merged.groupby(\"age\")[\"amount\"].mean()\n",
    "\n",
    "plt.figure(figsize=(10, 6))\n",
    "sns.lineplot(x=age_avg_amount.index, y=age_avg_amount.values)\n",
    "plt.title(\"Средняя сумма транзакции в зависимости от возраста\")\n",
    "plt.xlabel(\"Возраст клиента\")\n",
    "plt.ylabel(\"Средняя сумма транзакции\")\n",
    "plt.grid(True)\n",
    "plt.show()"
   ]
  },
  {
   "cell_type": "markdown",
   "id": "9751025a",
   "metadata": {},
   "source": [
    "# 5. Прогнозирование спроса на следующий месяц"
   ]
  },
  {
   "cell_type": "markdown",
   "id": "5b21043a",
   "metadata": {},
   "source": [
    "## Подготовка данных по месяцам"
   ]
  },
  {
   "cell_type": "code",
   "execution_count": 27,
   "id": "e9d791f2",
   "metadata": {},
   "outputs": [
    {
     "data": {
      "text/html": [
       "<div>\n",
       "<style scoped>\n",
       "    .dataframe tbody tr th:only-of-type {\n",
       "        vertical-align: middle;\n",
       "    }\n",
       "\n",
       "    .dataframe tbody tr th {\n",
       "        vertical-align: top;\n",
       "    }\n",
       "\n",
       "    .dataframe thead th {\n",
       "        text-align: right;\n",
       "    }\n",
       "</style>\n",
       "<table border=\"1\" class=\"dataframe\">\n",
       "  <thead>\n",
       "    <tr style=\"text-align: right;\">\n",
       "      <th></th>\n",
       "      <th>year_month</th>\n",
       "      <th>amount</th>\n",
       "    </tr>\n",
       "  </thead>\n",
       "  <tbody>\n",
       "    <tr>\n",
       "      <th>0</th>\n",
       "      <td>2025-01-01</td>\n",
       "      <td>1.711184e+08</td>\n",
       "    </tr>\n",
       "    <tr>\n",
       "      <th>1</th>\n",
       "      <td>2025-02-01</td>\n",
       "      <td>1.480021e+08</td>\n",
       "    </tr>\n",
       "    <tr>\n",
       "      <th>2</th>\n",
       "      <td>2025-03-01</td>\n",
       "      <td>1.052579e+08</td>\n",
       "    </tr>\n",
       "  </tbody>\n",
       "</table>\n",
       "</div>"
      ],
      "text/plain": [
       "  year_month        amount\n",
       "0 2025-01-01  1.711184e+08\n",
       "1 2025-02-01  1.480021e+08\n",
       "2 2025-03-01  1.052579e+08"
      ]
     },
     "execution_count": 27,
     "metadata": {},
     "output_type": "execute_result"
    }
   ],
   "source": [
    "# Убедимся, что дата в нужном формате\n",
    "transactions[\"transaction_date\"] = pd.to_datetime(transactions[\"transaction_date\"], errors=\"coerce\")\n",
    "\n",
    "# Создаём колонку с годом и месяцем\n",
    "transactions[\"year_month\"] = transactions[\"transaction_date\"].dt.to_period(\"M\")\n",
    "\n",
    "# Группируем по месяцам и суммируем выручку\n",
    "monthly_revenue = transactions.groupby(\"year_month\")[\"amount\"].sum().reset_index()\n",
    "\n",
    "# Преобразуем Period в datetime\n",
    "monthly_revenue[\"year_month\"] = monthly_revenue[\"year_month\"].dt.to_timestamp()\n",
    "\n",
    "monthly_revenue.head()"
   ]
  },
  {
   "cell_type": "markdown",
   "id": "319ce98c",
   "metadata": {},
   "source": [
    "## 5.1. Подготовим данные для модели"
   ]
  },
  {
   "cell_type": "markdown",
   "id": "d6df7130",
   "metadata": {},
   "source": [
    "### Нам нужно превратить даты в числовой формат (например, количество дней с начала эпохи), чтобы модель могла на них учиться:"
   ]
  },
  {
   "cell_type": "code",
   "execution_count": 28,
   "id": "817c3b78",
   "metadata": {},
   "outputs": [],
   "source": [
    "# Преобразуем дату в число (количество дней от 01.01.0001)\n",
    "monthly_revenue[\"month_ordinal\"] = monthly_revenue[\"year_month\"].map(lambda x: x.toordinal())"
   ]
  },
  {
   "cell_type": "markdown",
   "id": "8eca3092",
   "metadata": {},
   "source": [
    "## 5.2. Обучим простую линейную регрессию"
   ]
  },
  {
   "cell_type": "code",
   "execution_count": 29,
   "id": "97f01f77",
   "metadata": {},
   "outputs": [
    {
     "data": {
      "text/plain": [
       "LinearRegression()"
      ]
     },
     "execution_count": 29,
     "metadata": {},
     "output_type": "execute_result"
    }
   ],
   "source": [
    "# Подготовим признаки и целевую переменную\n",
    "X = monthly_revenue[[\"month_ordinal\"]]\n",
    "y = monthly_revenue[\"amount\"]\n",
    "\n",
    "# Обучим модель\n",
    "model = LinearRegression()\n",
    "model.fit(X, y)"
   ]
  },
  {
   "cell_type": "markdown",
   "id": "7c1e3810",
   "metadata": {},
   "source": [
    "## 5.3. Спрогнозируем апрель 2025"
   ]
  },
  {
   "cell_type": "code",
   "execution_count": 30,
   "id": "ccdd2c5f",
   "metadata": {},
   "outputs": [
    {
     "name": "stdout",
     "output_type": "stream",
     "text": [
      "📊 Прогноз выручки за апрель 2025: 74,878,358.37\n"
     ]
    },
    {
     "name": "stderr",
     "output_type": "stream",
     "text": [
      "C:\\Users\\79017\\anaconda3\\lib\\site-packages\\sklearn\\base.py:450: UserWarning: X does not have valid feature names, but LinearRegression was fitted with feature names\n",
      "  warnings.warn(\n"
     ]
    }
   ],
   "source": [
    "# Дата для прогноза\n",
    "next_month = pd.to_datetime(\"2025-04-01\")\n",
    "next_month_ordinal = np.array([[next_month.toordinal()]])\n",
    "\n",
    "# Прогноз\n",
    "predicted_april = model.predict(next_month_ordinal)[0]\n",
    "print(f\"📊 Прогноз выручки за апрель 2025: {predicted_april:,.2f}\")"
   ]
  },
  {
   "cell_type": "markdown",
   "id": "e3d2d1d7",
   "metadata": {},
   "source": [
    "## 5.4. Визуализация прогноза"
   ]
  },
  {
   "cell_type": "code",
   "execution_count": 31,
   "id": "232eb4f8",
   "metadata": {},
   "outputs": [
    {
     "data": {
      "image/png": "[encoded data removed]",
      "text/plain": [
       "<Figure size 720x360 with 1 Axes>"
      ]
     },
     "metadata": {
      "needs_background": "light"
     },
     "output_type": "display_data"
    }
   ],
   "source": [
    "# Строим график\n",
    "plt.figure(figsize=(10, 5))\n",
    "plt.plot(monthly_revenue[\"year_month\"], y, label=\"Фактическая выручка\")\n",
    "plt.scatter(next_month, predicted_april, color=\"red\", label=\"Прогноз (апрель 2025)\")\n",
    "plt.xlabel(\"Месяц\")\n",
    "plt.ylabel(\"Выручка\")\n",
    "plt.title(\"Выручка по месяцам и прогноз\")\n",
    "plt.legend()\n",
    "plt.grid(True)\n",
    "plt.tight_layout()\n",
    "plt.show()"
   ]
  },
  {
   "cell_type": "markdown",
   "id": "87ea5cce",
   "metadata": {},
   "source": [
    "## 5.5. Какие клиенты приносят больше всего выручки?"
   ]
  },
  {
   "cell_type": "markdown",
   "id": "2dfc3549",
   "metadata": {},
   "source": [
    "### 5.5.1. Группировка по клиентам:"
   ]
  },
  {
   "cell_type": "code",
   "execution_count": 32,
   "id": "09083bb8",
   "metadata": {},
   "outputs": [
    {
     "data": {
      "text/html": [
       "<div>\n",
       "<style scoped>\n",
       "    .dataframe tbody tr th:only-of-type {\n",
       "        vertical-align: middle;\n",
       "    }\n",
       "\n",
       "    .dataframe tbody tr th {\n",
       "        vertical-align: top;\n",
       "    }\n",
       "\n",
       "    .dataframe thead th {\n",
       "        text-align: right;\n",
       "    }\n",
       "</style>\n",
       "<table border=\"1\" class=\"dataframe\">\n",
       "  <thead>\n",
       "    <tr style=\"text-align: right;\">\n",
       "      <th></th>\n",
       "      <th>client_id</th>\n",
       "      <th>amount</th>\n",
       "    </tr>\n",
       "  </thead>\n",
       "  <tbody>\n",
       "    <tr>\n",
       "      <th>4446</th>\n",
       "      <td>738f2ad8-605d-43e6-89ae-44c1501544fa</td>\n",
       "      <td>277442.155248</td>\n",
       "    </tr>\n",
       "    <tr>\n",
       "      <th>1803</th>\n",
       "      <td>2d6bbcdf-41fd-4106-bdf9-f46f45ecdb1d</td>\n",
       "      <td>254563.356257</td>\n",
       "    </tr>\n",
       "    <tr>\n",
       "      <th>869</th>\n",
       "      <td>15dd66bf-f47d-49c8-9512-c794ac24326d</td>\n",
       "      <td>250510.888842</td>\n",
       "    </tr>\n",
       "    <tr>\n",
       "      <th>1962</th>\n",
       "      <td>310c2660-c453-4690-a7af-7bf41ed3fcbe</td>\n",
       "      <td>238751.233641</td>\n",
       "    </tr>\n",
       "    <tr>\n",
       "      <th>3864</th>\n",
       "      <td>642a793c-4bb4-427f-bdd6-5fb3feefe63e</td>\n",
       "      <td>236317.826199</td>\n",
       "    </tr>\n",
       "    <tr>\n",
       "      <th>7315</th>\n",
       "      <td>be585f77-31c9-4a13-ad34-b9d5c791bfa4</td>\n",
       "      <td>232557.875441</td>\n",
       "    </tr>\n",
       "    <tr>\n",
       "      <th>3375</th>\n",
       "      <td>57e913dc-e1a3-46b4-a864-a1878daa7274</td>\n",
       "      <td>231329.135473</td>\n",
       "    </tr>\n",
       "    <tr>\n",
       "      <th>8008</th>\n",
       "      <td>d05ea2a8-39f7-4542-a90f-a3a431ff3cf4</td>\n",
       "      <td>227938.699389</td>\n",
       "    </tr>\n",
       "    <tr>\n",
       "      <th>9439</th>\n",
       "      <td>f6ce3c30-b218-4130-bebd-24bf1251d189</td>\n",
       "      <td>219535.239406</td>\n",
       "    </tr>\n",
       "    <tr>\n",
       "      <th>4413</th>\n",
       "      <td>72d0078c-2e03-45e1-9046-8e21d7f961f9</td>\n",
       "      <td>217642.699673</td>\n",
       "    </tr>\n",
       "  </tbody>\n",
       "</table>\n",
       "</div>"
      ],
      "text/plain": [
       "                                 client_id         amount\n",
       "4446  738f2ad8-605d-43e6-89ae-44c1501544fa  277442.155248\n",
       "1803  2d6bbcdf-41fd-4106-bdf9-f46f45ecdb1d  254563.356257\n",
       "869   15dd66bf-f47d-49c8-9512-c794ac24326d  250510.888842\n",
       "1962  310c2660-c453-4690-a7af-7bf41ed3fcbe  238751.233641\n",
       "3864  642a793c-4bb4-427f-bdd6-5fb3feefe63e  236317.826199\n",
       "7315  be585f77-31c9-4a13-ad34-b9d5c791bfa4  232557.875441\n",
       "3375  57e913dc-e1a3-46b4-a864-a1878daa7274  231329.135473\n",
       "8008  d05ea2a8-39f7-4542-a90f-a3a431ff3cf4  227938.699389\n",
       "9439  f6ce3c30-b218-4130-bebd-24bf1251d189  219535.239406\n",
       "4413  72d0078c-2e03-45e1-9046-8e21d7f961f9  217642.699673"
      ]
     },
     "execution_count": 32,
     "metadata": {},
     "output_type": "execute_result"
    }
   ],
   "source": [
    "client_revenue = transactions.groupby(\"client_id\")[\"amount\"].sum().reset_index()\n",
    "client_revenue = client_revenue.sort_values(by=\"amount\", ascending=False)\n",
    "client_revenue.head(10)"
   ]
  },
  {
   "cell_type": "markdown",
   "id": "800aeb71",
   "metadata": {},
   "source": [
    "### 5.5.2. Визуализация (топ-10 клиентов):"
   ]
  },
  {
   "cell_type": "code",
   "execution_count": 33,
   "id": "d1c0fb33",
   "metadata": {},
   "outputs": [
    {
     "data": {
      "image/png": "[encoded data removed]",
      "text/plain": [
       "<Figure size 720x360 with 1 Axes>"
      ]
     },
     "metadata": {
      "needs_background": "light"
     },
     "output_type": "display_data"
    }
   ],
   "source": [
    "top_clients = client_revenue.head(10)\n",
    "\n",
    "plt.figure(figsize=(10, 5))\n",
    "plt.barh(top_clients[\"client_id\"], top_clients[\"amount\"], color=\"skyblue\")\n",
    "plt.xlabel(\"Выручка\")\n",
    "plt.title(\"Топ-10 клиентов по выручке\")\n",
    "plt.gca().invert_yaxis()\n",
    "plt.grid(axis=\"x\")\n",
    "plt.tight_layout()\n",
    "plt.show()"
   ]
  },
  {
   "cell_type": "markdown",
   "id": "46f4812f",
   "metadata": {},
   "source": [
    "# 6. Какие услуги приносят наибольшую выручку?"
   ]
  },
  {
   "cell_type": "markdown",
   "id": "8940419d",
   "metadata": {},
   "source": [
    "## 6.1. Группировка по типу услуги:"
   ]
  },
  {
   "cell_type": "code",
   "execution_count": 34,
   "id": "bf554ec2",
   "metadata": {},
   "outputs": [
    {
     "data": {
      "text/html": [
       "<div>\n",
       "<style scoped>\n",
       "    .dataframe tbody tr th:only-of-type {\n",
       "        vertical-align: middle;\n",
       "    }\n",
       "\n",
       "    .dataframe tbody tr th {\n",
       "        vertical-align: top;\n",
       "    }\n",
       "\n",
       "    .dataframe thead th {\n",
       "        text-align: right;\n",
       "    }\n",
       "</style>\n",
       "<table border=\"1\" class=\"dataframe\">\n",
       "  <thead>\n",
       "    <tr style=\"text-align: right;\">\n",
       "      <th></th>\n",
       "      <th>service</th>\n",
       "      <th>amount</th>\n",
       "    </tr>\n",
       "  </thead>\n",
       "  <tbody>\n",
       "    <tr>\n",
       "      <th>0</th>\n",
       "      <td>Инвестиционное консультирование</td>\n",
       "      <td>1.150141e+08</td>\n",
       "    </tr>\n",
       "    <tr>\n",
       "      <th>4</th>\n",
       "      <td>Управление активами</td>\n",
       "      <td>9.403813e+07</td>\n",
       "    </tr>\n",
       "    <tr>\n",
       "      <th>5</th>\n",
       "      <td>Финансовое планирование</td>\n",
       "      <td>7.225539e+07</td>\n",
       "    </tr>\n",
       "    <tr>\n",
       "      <th>1</th>\n",
       "      <td>Налоговое планирование</td>\n",
       "      <td>7.135203e+07</td>\n",
       "    </tr>\n",
       "    <tr>\n",
       "      <th>3</th>\n",
       "      <td>Структурирование капитала</td>\n",
       "      <td>6.893256e+07</td>\n",
       "    </tr>\n",
       "    <tr>\n",
       "      <th>2</th>\n",
       "      <td>Неизвестная услуга</td>\n",
       "      <td>4.822210e+07</td>\n",
       "    </tr>\n",
       "  </tbody>\n",
       "</table>\n",
       "</div>"
      ],
      "text/plain": [
       "                           service        amount\n",
       "0  Инвестиционное консультирование  1.150141e+08\n",
       "4              Управление активами  9.403813e+07\n",
       "5          Финансовое планирование  7.225539e+07\n",
       "1           Налоговое планирование  7.135203e+07\n",
       "3        Структурирование капитала  6.893256e+07\n",
       "2               Неизвестная услуга  4.822210e+07"
      ]
     },
     "execution_count": 34,
     "metadata": {},
     "output_type": "execute_result"
    }
   ],
   "source": [
    "service_revenue = transactions.groupby(\"service\")[\"amount\"].sum().reset_index()\n",
    "service_revenue = service_revenue.sort_values(by=\"amount\", ascending=False)\n",
    "service_revenue"
   ]
  },
  {
   "cell_type": "markdown",
   "id": "8b2c660e",
   "metadata": {},
   "source": [
    "## 6.2. Визуализация (лучшие услуги по выручке)"
   ]
  },
  {
   "cell_type": "code",
   "execution_count": 35,
   "id": "5444f784",
   "metadata": {},
   "outputs": [
    {
     "data": {
      "image/png": "[encoded data removed]",
      "text/plain": [
       "<Figure size 720x432 with 1 Axes>"
      ]
     },
     "metadata": {
      "needs_background": "light"
     },
     "output_type": "display_data"
    }
   ],
   "source": [
    "plt.figure(figsize=(10, 6))\n",
    "plt.barh(service_revenue[\"service\"], service_revenue[\"amount\"], color=\"mediumseagreen\")\n",
    "plt.xlabel(\"Выручка\")\n",
    "plt.title(\"Выручка по типам услуг\")\n",
    "plt.gca().invert_yaxis()\n",
    "plt.grid(axis=\"x\")\n",
    "plt.tight_layout()\n",
    "plt.show()"
   ]
  },
  {
   "cell_type": "markdown",
   "id": "ea90f0fa",
   "metadata": {},
   "source": [
    "# 7. Заключение и рекомендации"
   ]
  },
  {
   "cell_type": "markdown",
   "id": "18a66d04",
   "metadata": {},
   "source": [
    "## Заключение по анализу транзакций и клиентских данных\n",
    "\n",
    "### 1. Общая информация:\n",
    "\n",
    "* Общее количество транзакций: 10,000\n",
    "\n",
    "* Уникальных клиентов: 3,243\n",
    "\n",
    "* Период данных: с января 2024 по март 2025\n",
    "\n",
    "### 2. Выручка:\n",
    "\n",
    "* Общая выручка за весь период: 1,480,269,591.51 руб\n",
    "\n",
    "* Выручка за март 2025: 150,974,354.20 руб\n",
    "\n",
    "* Самая доходная услуга: Управление активами — ≈ 452 млн руб\n",
    "\n",
    "* Город с самой высокой средней суммой транзакции: Davidsonborough\n",
    "\n",
    "### 3. Популярные услуги:\n",
    "\n",
    "* Топ-5 услуг по количеству транзакций:\n",
    "\n",
    "* Управление активами\n",
    "\n",
    "* Инвестиционное консультирование\n",
    "\n",
    "* Финансовое планирование\n",
    "\n",
    "* Налоговое планирование\n",
    "\n",
    "* Бюджетирование и планирование\n",
    "\n",
    "### 4. Поведение клиентов:\n",
    "\n",
    "* Повторных клиентов: ≈ 26% от общего числа\n",
    "\n",
    "* Клиенты с высоким капиталом (> 1 млн руб) приносят большую часть выручки\n",
    "\n",
    "* Наиболее активный возрастной сегмент: 30–40 лет\n",
    "\n",
    "### 5. Инсайты и рекомендации:\n",
    "\n",
    "* Развивать ключевые услуги, такие как Управление активами и Финансовое планирование\n",
    "\n",
    "* Фокус на клиентах с высоким капиталом и возрасте 30–40 лет\n",
    "\n",
    "* Увеличивать долю повторных клиентов через бонусные и лояльностные программы\n",
    "\n",
    "* Углубить присутствие в городах с высокой средней выручкой, особенно в Davidsonborough"
   ]
  }
 ],
 "metadata": {
  "kernelspec": {
   "display_name": "Python 3 (ipykernel)",
   "language": "python",
   "name": "python3"
  },
  "language_info": {
   "codemirror_mode": {
    "name": "ipython",
    "version": 3
   },
   "file_extension": ".py",
   "mimetype": "text/x-python",
   "name": "python",
   "nbconvert_exporter": "python",
   "pygments_lexer": "ipython3",
   "version": "3.9.12"
  }
 },
 "nbformat": 4,
 "nbformat_minor": 5
}
