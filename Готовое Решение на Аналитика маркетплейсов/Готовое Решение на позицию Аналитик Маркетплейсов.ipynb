{
 "cells": [
  {
   "cell_type": "markdown",
   "id": "aba62b03",
   "metadata": {},
   "source": [
    "# Тестовое задание на позицию Аналитик."
   ]
  },
  {
   "cell_type": "markdown",
   "id": "4242356f",
   "metadata": {},
   "source": [
    "# 1. Импорт библиотек и загрузка данных"
   ]
  },
  {
   "cell_type": "markdown",
   "id": "a33706e0",
   "metadata": {},
   "source": [
    "## 1.1 Импорт библиотек\n",
    "\n",
    "Импортированы библиотеки для анализа данных и визуализации:\n",
    "- pandas\n",
    "- matplotlib.pyplot\n",
    "- seaborn"
   ]
  },
  {
   "cell_type": "code",
   "execution_count": 1,
   "id": "f8afc019",
   "metadata": {
    "scrolled": true
   },
   "outputs": [],
   "source": [
    "import pandas as pd\n",
    "import matplotlib.pyplot as plt\n",
    "import seaborn as sns"
   ]
  },
  {
   "cell_type": "markdown",
   "id": "95684f02",
   "metadata": {},
   "source": [
    "## 1.2 Загрузка данных\n",
    "\n",
    "Данные загружены из Excel-файла. Таблица содержит:\n",
    "- Названия товаров\n",
    "- Базовые цены\n",
    "- Продавцов"
   ]
  },
  {
   "cell_type": "code",
   "execution_count": 2,
   "id": "43fbadfd",
   "metadata": {},
   "outputs": [],
   "source": [
    "# Загрузка Excel-файла\n",
    "df = pd.read_excel(\"Тестовое задание.xlsx\", sheet_name=\"DATA\")"
   ]
  },
  {
   "cell_type": "markdown",
   "id": "f003ef37",
   "metadata": {},
   "source": [
    "## 1.3 Предварительная обработка\n",
    "\n",
    "- Проведена минимальная очистка: из названий столбцов удалены лишние пробелы\n",
    "- Проверены первые строки таблицы (`head()`), чтобы убедиться в корректной загрузке данных"
   ]
  },
  {
   "cell_type": "code",
   "execution_count": 3,
   "id": "560e47b6",
   "metadata": {},
   "outputs": [
    {
     "data": {
      "text/html": [
       "<div>\n",
       "<style scoped>\n",
       "    .dataframe tbody tr th:only-of-type {\n",
       "        vertical-align: middle;\n",
       "    }\n",
       "\n",
       "    .dataframe tbody tr th {\n",
       "        vertical-align: top;\n",
       "    }\n",
       "\n",
       "    .dataframe thead th {\n",
       "        text-align: right;\n",
       "    }\n",
       "</style>\n",
       "<table border=\"1\" class=\"dataframe\">\n",
       "  <thead>\n",
       "    <tr style=\"text-align: right;\">\n",
       "      <th></th>\n",
       "      <th>Название</th>\n",
       "      <th>Бренд</th>\n",
       "      <th>SKU</th>\n",
       "      <th>Артикул</th>\n",
       "      <th>Базовая цена товара</th>\n",
       "      <th>Скидка, %</th>\n",
       "      <th>Дата заказа</th>\n",
       "      <th>Дата продажи</th>\n",
       "      <th>Дата обратной логистики</th>\n",
       "      <th>Регион</th>\n",
       "    </tr>\n",
       "  </thead>\n",
       "  <tbody>\n",
       "    <tr>\n",
       "      <th>0</th>\n",
       "      <td>Батончики спортивные</td>\n",
       "      <td>SHOCKS!</td>\n",
       "      <td>316681710.0</td>\n",
       "      <td>НФ-00007690</td>\n",
       "      <td>1572.0</td>\n",
       "      <td>40</td>\n",
       "      <td>2025-04-02 10:34:10</td>\n",
       "      <td>\\N</td>\n",
       "      <td>\\N</td>\n",
       "      <td>Москва</td>\n",
       "    </tr>\n",
       "    <tr>\n",
       "      <th>1</th>\n",
       "      <td>Батончики спортивные</td>\n",
       "      <td>SHOCKS!</td>\n",
       "      <td>149763478.0</td>\n",
       "      <td>НФ-00003565</td>\n",
       "      <td>1307.0</td>\n",
       "      <td>40</td>\n",
       "      <td>2025-04-02 10:33:53</td>\n",
       "      <td>\\N</td>\n",
       "      <td>\\N</td>\n",
       "      <td>Краснодарский край</td>\n",
       "    </tr>\n",
       "    <tr>\n",
       "      <th>2</th>\n",
       "      <td>Батончики спортивные</td>\n",
       "      <td>FitnesSHOCK</td>\n",
       "      <td>225408190.0</td>\n",
       "      <td>НФ-00005868</td>\n",
       "      <td>1730.0</td>\n",
       "      <td>40</td>\n",
       "      <td>2025-04-02 10:33:53</td>\n",
       "      <td>\\N</td>\n",
       "      <td>\\N</td>\n",
       "      <td>Мурманская область</td>\n",
       "    </tr>\n",
       "    <tr>\n",
       "      <th>3</th>\n",
       "      <td>Батончики спортивные</td>\n",
       "      <td>FitnesSHOCK</td>\n",
       "      <td>316698987.0</td>\n",
       "      <td>НФ-00008822</td>\n",
       "      <td>2044.0</td>\n",
       "      <td>41</td>\n",
       "      <td>2025-04-02 10:31:49</td>\n",
       "      <td>\\N</td>\n",
       "      <td>2025-04-02 10:31:49</td>\n",
       "      <td>Минск</td>\n",
       "    </tr>\n",
       "    <tr>\n",
       "      <th>4</th>\n",
       "      <td>Батончики спортивные</td>\n",
       "      <td>FitnesSHOCK</td>\n",
       "      <td>225408190.0</td>\n",
       "      <td>НФ-00005868</td>\n",
       "      <td>1730.0</td>\n",
       "      <td>40</td>\n",
       "      <td>2025-04-02 10:31:18</td>\n",
       "      <td>\\N</td>\n",
       "      <td>\\N</td>\n",
       "      <td>Москва</td>\n",
       "    </tr>\n",
       "  </tbody>\n",
       "</table>\n",
       "</div>"
      ],
      "text/plain": [
       "               Название        Бренд          SKU      Артикул  \\\n",
       "0  Батончики спортивные      SHOCKS!  316681710.0  НФ-00007690   \n",
       "1  Батончики спортивные      SHOCKS!  149763478.0  НФ-00003565   \n",
       "2  Батончики спортивные  FitnesSHOCK  225408190.0  НФ-00005868   \n",
       "3  Батончики спортивные  FitnesSHOCK  316698987.0  НФ-00008822   \n",
       "4  Батончики спортивные  FitnesSHOCK  225408190.0  НФ-00005868   \n",
       "\n",
       "   Базовая цена товара  Скидка, %         Дата заказа Дата продажи  \\\n",
       "0               1572.0         40 2025-04-02 10:34:10           \\N   \n",
       "1               1307.0         40 2025-04-02 10:33:53           \\N   \n",
       "2               1730.0         40 2025-04-02 10:33:53           \\N   \n",
       "3               2044.0         41 2025-04-02 10:31:49           \\N   \n",
       "4               1730.0         40 2025-04-02 10:31:18           \\N   \n",
       "\n",
       "  Дата обратной логистики              Регион  \n",
       "0                      \\N              Москва  \n",
       "1                      \\N  Краснодарский край  \n",
       "2                      \\N  Мурманская область  \n",
       "3     2025-04-02 10:31:49               Минск  \n",
       "4                      \\N              Москва  "
      ]
     },
     "execution_count": 3,
     "metadata": {},
     "output_type": "execute_result"
    }
   ],
   "source": [
    "# Удалим пробелы из названий столбцов\n",
    "df.columns = df.columns.str.strip()\n",
    "\n",
    "# Посмотрим первые строки\n",
    "df.head()"
   ]
  },
  {
   "cell_type": "markdown",
   "id": "34bf71e9",
   "metadata": {},
   "source": [
    "## 1.4 Описательная статистика\n",
    "\n",
    "Вычислены ключевые статистики по цене:\n",
    "- Среднее значение\n",
    "- Медиана\n",
    "- Минимум и максимум"
   ]
  },
  {
   "cell_type": "code",
   "execution_count": 4,
   "id": "ca329281",
   "metadata": {},
   "outputs": [
    {
     "data": {
      "text/plain": [
       "count    383324.000000\n",
       "mean       1535.684921\n",
       "std         548.987665\n",
       "min           0.000000\n",
       "25%        1349.000000\n",
       "50%        1449.000000\n",
       "75%        1549.000000\n",
       "max        7435.000000\n",
       "Name: Базовая цена товара, dtype: float64"
      ]
     },
     "execution_count": 4,
     "metadata": {},
     "output_type": "execute_result"
    }
   ],
   "source": [
    "# Описательная статистика по \"Базовая цена товара\"\n",
    "df[\"Базовая цена товара\"].describe()"
   ]
  },
  {
   "cell_type": "markdown",
   "id": "4470c1ed",
   "metadata": {},
   "source": [
    "## 1.5 Подсчёт количества продаж\n",
    "\n",
    "Проведён групповой анализ по каждому товару:\n",
    "- Подсчитано количество продаж (число повторов каждого товара в данных)\n",
    "- Вычислена средняя цена продажи по каждому товару\n",
    "\n",
    "Ниже представлена таблица **топ-5 товаров по количеству продаж**."
   ]
  },
  {
   "cell_type": "code",
   "execution_count": 5,
   "id": "12a33115",
   "metadata": {},
   "outputs": [
    {
     "data": {
      "text/html": [
       "<div>\n",
       "<style scoped>\n",
       "    .dataframe tbody tr th:only-of-type {\n",
       "        vertical-align: middle;\n",
       "    }\n",
       "\n",
       "    .dataframe tbody tr th {\n",
       "        vertical-align: top;\n",
       "    }\n",
       "\n",
       "    .dataframe thead th {\n",
       "        text-align: right;\n",
       "    }\n",
       "</style>\n",
       "<table border=\"1\" class=\"dataframe\">\n",
       "  <thead>\n",
       "    <tr style=\"text-align: right;\">\n",
       "      <th></th>\n",
       "      <th>Базовая цена товара</th>\n",
       "      <th>Количество продаж</th>\n",
       "    </tr>\n",
       "    <tr>\n",
       "      <th>Название</th>\n",
       "      <th></th>\n",
       "      <th></th>\n",
       "    </tr>\n",
       "  </thead>\n",
       "  <tbody>\n",
       "    <tr>\n",
       "      <th>Батончики спортивные</th>\n",
       "      <td>1475.984952</td>\n",
       "      <td>213181</td>\n",
       "    </tr>\n",
       "    <tr>\n",
       "      <th>Печенье спортивное</th>\n",
       "      <td>1605.670127</td>\n",
       "      <td>169433</td>\n",
       "    </tr>\n",
       "    <tr>\n",
       "      <th>Протеин</th>\n",
       "      <td>4467.257541</td>\n",
       "      <td>431</td>\n",
       "    </tr>\n",
       "    <tr>\n",
       "      <th>Коробки картонные</th>\n",
       "      <td>0.000000</td>\n",
       "      <td>261</td>\n",
       "    </tr>\n",
       "    <tr>\n",
       "      <th>Батончики шоколадные</th>\n",
       "      <td>1920.176471</td>\n",
       "      <td>17</td>\n",
       "    </tr>\n",
       "  </tbody>\n",
       "</table>\n",
       "</div>"
      ],
      "text/plain": [
       "                      Базовая цена товара  Количество продаж\n",
       "Название                                                    \n",
       "Батончики спортивные          1475.984952             213181\n",
       "Печенье спортивное            1605.670127             169433\n",
       "Протеин                       4467.257541                431\n",
       "Коробки картонные                0.000000                261\n",
       "Батончики шоколадные          1920.176471                 17"
      ]
     },
     "execution_count": 5,
     "metadata": {},
     "output_type": "execute_result"
    }
   ],
   "source": [
    "# Считаем количество продаж и среднюю цену по каждому товару\n",
    "sales_per_product = df.groupby(\"Название\").agg({\n",
    "    \"Базовая цена товара\": \"mean\",\n",
    "    \"Название\": \"count\"\n",
    "}).rename(columns={\"Название\": \"Количество продаж\"})\n",
    "\n",
    "# Показываем топ-5 товаров по количеству продаж\n",
    "sales_per_product.sort_values(\"Количество продаж\", ascending=False).head(5)"
   ]
  },
  {
   "cell_type": "markdown",
   "id": "fbdb5dda",
   "metadata": {},
   "source": [
    "# 2. Анализ зависимости между ценой и количеством продаж"
   ]
  },
  {
   "cell_type": "markdown",
   "id": "1c3ce4e0",
   "metadata": {},
   "source": [
    "## 2.1 Код для визуализации:"
   ]
  },
  {
   "cell_type": "markdown",
   "id": "1c3816bd",
   "metadata": {},
   "source": [
    "**Рисунок 1.** Диаграмма зависимости между ценой и количеством продаж:"
   ]
  },
  {
   "cell_type": "code",
   "execution_count": 6,
   "id": "b349d4bd",
   "metadata": {},
   "outputs": [
    {
     "data": {
      "image/png": "[encoded data removed]",
      "text/plain": [
       "<Figure size 720x432 with 1 Axes>"
      ]
     },
     "metadata": {
      "needs_background": "light"
     },
     "output_type": "display_data"
    }
   ],
   "source": [
    "# Стиль графика\n",
    "plt.style.use(\"seaborn-white\")\n",
    "\n",
    "# Увеличим размер графика\n",
    "plt.figure(figsize=(10, 6))\n",
    "\n",
    "# Диаграмма рассеяния\n",
    "sns.scatterplot(\n",
    "    data=sales_per_product,\n",
    "    x=\"Базовая цена товара\",\n",
    "    y=\"Количество продаж\"\n",
    ")\n",
    "\n",
    "plt.title(\"Зависимость между ценой и количеством продаж\")\n",
    "plt.xlabel(\"Средняя цена товара, руб.\")\n",
    "plt.ylabel(\"Количество продаж, шт.\")\n",
    "plt.grid(True)\n",
    "plt.show()"
   ]
  },
  {
   "cell_type": "markdown",
   "id": "bd97c3ca",
   "metadata": {},
   "source": [
    "## 2.2 Коэффициент корреляции между ценой и количеством продаж"
   ]
  },
  {
   "cell_type": "code",
   "execution_count": 7,
   "id": "271ddbd3",
   "metadata": {},
   "outputs": [
    {
     "name": "stdout",
     "output_type": "stream",
     "text": [
      "Коэффициент корреляции: -0.145\n"
     ]
    }
   ],
   "source": [
    "# Коэффициент корреляции Пирсона\n",
    "correlation = sales_per_product[\"Базовая цена товара\"].corr(sales_per_product[\"Количество продаж\"])\n",
    "print(f\"Коэффициент корреляции: {correlation:.3f}\")"
   ]
  },
  {
   "cell_type": "markdown",
   "id": "d04fd39d",
   "metadata": {},
   "source": [
    "**Результаты анализа влияния цены на продажи:**"
   ]
  },
  {
   "cell_type": "markdown",
   "id": "7f54e9ac",
   "metadata": {},
   "source": [
    "📊 График:\n",
    "* Товары с ценой от 1000 до 2000 демонстрируют высокий уровень продаж.\n",
    "\n",
    "* При цене выше 4000 почти нет продаж — вероятно, товары становятся слишком дорогими для покупателей.\n",
    "\n",
    "**📉 Коэффициент корреляции:**\n",
    "* Значение −0.145 говорит о слабой обратной зависимости между ценой и количеством продаж.\n",
    "\n",
    "* То есть: в среднем более дорогие товары чуть хуже продаются, но это не жёсткое правило — есть и другие факторы."
   ]
  },
  {
   "cell_type": "markdown",
   "id": "5f3c600a",
   "metadata": {},
   "source": [
    "**Вывод:**\n",
    "Цена влияет на количество продаж, но не напрямую. Есть диапазон, в котором цена выглядит \"оптимальной\" для покупателей — примерно 1000–2000. За его пределами (особенно при цене > 4000) продажи резко падают."
   ]
  },
  {
   "cell_type": "markdown",
   "id": "799f5aec",
   "metadata": {},
   "source": [
    "# 3. Выводы\n",
    "\n",
    "1. Наибольшее количество продаж наблюдается у товаров с ценой в диапазоне **1000–2000 рублей** — это самая активная ценовая категория.\n",
    "2. Товары с высокой ценой (более **4000 рублей**) практически не продаются — возможна проблема с ценовой доступностью или позиционированием.\n",
    "3. **Коэффициент корреляции Пирсона: -0.145** — слабая отрицательная связь между ценой и количеством продаж. Это означает, что рост цены слабо, но всё же уменьшает продажи.\n",
    "4. Топ-5 самых продаваемых товаров имеют сравнительно невысокую цену, что подтверждает тренд: **низкая цена → выше спрос**.\n",
    "\n",
    "---\n",
    "\n",
    "# 4. Рекомендации по улучшению продаж\n",
    "\n",
    "1. **Фокусироваться на товарах в диапазоне 1000–2000 руб.** — усиливать маркетинг, витринную выкладку и рекламу этих товаров.\n",
    "2. **Рассмотреть возможность снижения цен** на товары дороже 4000 руб. либо предлагать акции/бонусы для повышения спроса.\n",
    "3. **Провести анализ характеристик популярных товаров**: бренд, категория, упаковка, сезонность — и расширить ассортимент схожих товаров.\n",
    "4. **Внедрить A/B тестирование цен**: проверить, как изменение цены на 5–10% влияет на спрос.\n",
    "5. **Выделить самые продаваемые товары в каталоге/сайте** — с помощью меток \"Хит продаж\", \"Бестселлер\" и т.д.\n",
    "\n",
    "---\n"
   ]
  },
  {
   "cell_type": "markdown",
   "id": "c1ecfb1d",
   "metadata": {},
   "source": [
    "# 5. Визуализации и таблицы"
   ]
  },
  {
   "cell_type": "markdown",
   "id": "fa5fa278",
   "metadata": {},
   "source": [
    "**Таблица 1.** Топ-5 товаров по количеству продаж:"
   ]
  },
  {
   "cell_type": "code",
   "execution_count": 8,
   "id": "12e8acc8",
   "metadata": {},
   "outputs": [
    {
     "data": {
      "text/html": [
       "<style type=\"text/css\">\n",
       "#T_ec94a_row0_col1 {\n",
       "  background-color: #00441b;\n",
       "  color: #f1f1f1;\n",
       "}\n",
       "#T_ec94a_row1_col1 {\n",
       "  background-color: #16803c;\n",
       "  color: #f1f1f1;\n",
       "}\n",
       "#T_ec94a_row2_col1, #T_ec94a_row3_col1, #T_ec94a_row4_col1 {\n",
       "  background-color: #f7fcf5;\n",
       "  color: #000000;\n",
       "}\n",
       "</style>\n",
       "<table id=\"T_ec94a\">\n",
       "  <thead>\n",
       "    <tr>\n",
       "      <th class=\"blank level0\" >&nbsp;</th>\n",
       "      <th id=\"T_ec94a_level0_col0\" class=\"col_heading level0 col0\" >Базовая цена товара</th>\n",
       "      <th id=\"T_ec94a_level0_col1\" class=\"col_heading level0 col1\" >Количество продаж</th>\n",
       "    </tr>\n",
       "    <tr>\n",
       "      <th class=\"index_name level0\" >Название</th>\n",
       "      <th class=\"blank col0\" >&nbsp;</th>\n",
       "      <th class=\"blank col1\" >&nbsp;</th>\n",
       "    </tr>\n",
       "  </thead>\n",
       "  <tbody>\n",
       "    <tr>\n",
       "      <th id=\"T_ec94a_level0_row0\" class=\"row_heading level0 row0\" >Батончики спортивные</th>\n",
       "      <td id=\"T_ec94a_row0_col0\" class=\"data row0 col0\" >1475.98</td>\n",
       "      <td id=\"T_ec94a_row0_col1\" class=\"data row0 col1\" >213181.00</td>\n",
       "    </tr>\n",
       "    <tr>\n",
       "      <th id=\"T_ec94a_level0_row1\" class=\"row_heading level0 row1\" >Печенье спортивное</th>\n",
       "      <td id=\"T_ec94a_row1_col0\" class=\"data row1 col0\" >1605.67</td>\n",
       "      <td id=\"T_ec94a_row1_col1\" class=\"data row1 col1\" >169433.00</td>\n",
       "    </tr>\n",
       "    <tr>\n",
       "      <th id=\"T_ec94a_level0_row2\" class=\"row_heading level0 row2\" >Протеин</th>\n",
       "      <td id=\"T_ec94a_row2_col0\" class=\"data row2 col0\" >4467.26</td>\n",
       "      <td id=\"T_ec94a_row2_col1\" class=\"data row2 col1\" >431.00</td>\n",
       "    </tr>\n",
       "    <tr>\n",
       "      <th id=\"T_ec94a_level0_row3\" class=\"row_heading level0 row3\" >Коробки картонные</th>\n",
       "      <td id=\"T_ec94a_row3_col0\" class=\"data row3 col0\" >0.00</td>\n",
       "      <td id=\"T_ec94a_row3_col1\" class=\"data row3 col1\" >261.00</td>\n",
       "    </tr>\n",
       "    <tr>\n",
       "      <th id=\"T_ec94a_level0_row4\" class=\"row_heading level0 row4\" >Батончики шоколадные</th>\n",
       "      <td id=\"T_ec94a_row4_col0\" class=\"data row4 col0\" >1920.18</td>\n",
       "      <td id=\"T_ec94a_row4_col1\" class=\"data row4 col1\" >17.00</td>\n",
       "    </tr>\n",
       "  </tbody>\n",
       "</table>\n"
      ],
      "text/plain": [
       "<pandas.io.formats.style.Styler at 0x1ba02eb0880>"
      ]
     },
     "execution_count": 8,
     "metadata": {},
     "output_type": "execute_result"
    }
   ],
   "source": [
    "# Таблица топ-5 товаров\n",
    "top5 = sales_per_product.sort_values(\"Количество продаж\", ascending=False).head(5)\n",
    "top5.style.background_gradient(subset=[\"Количество продаж\"], cmap=\"Greens\").format(\"{:.2f}\")"
   ]
  },
  {
   "cell_type": "markdown",
   "id": "7fcc6902",
   "metadata": {},
   "source": [
    "**Таблица 2.** Распределение базовой цены товаров:"
   ]
  },
  {
   "cell_type": "code",
   "execution_count": 11,
   "id": "b1c89cb1",
   "metadata": {},
   "outputs": [
    {
     "data": {
      "image/png": "[encoded data removed]",
      "text/plain": [
       "<Figure size 720x432 with 1 Axes>"
      ]
     },
     "metadata": {
      "needs_background": "light"
     },
     "output_type": "display_data"
    }
   ],
   "source": [
    "plt.figure(figsize=(10, 6))\n",
    "sns.histplot(df[\"Базовая цена товара\"], bins=30, kde=True, color='skyblue')\n",
    "plt.title(\"Распределение базовой цены товаров\")\n",
    "plt.xlabel(\"Цена товара, руб.\")\n",
    "plt.ylabel(\"Количество, шт.\")\n",
    "plt.grid(True)\n",
    "plt.show()"
   ]
  },
  {
   "cell_type": "markdown",
   "id": "1f303ed4",
   "metadata": {},
   "source": [
    "# 6. Заключение\n",
    "\n",
    "В ходе анализа были выявлены ключевые зависимости и сформированы рекомендации для улучшения продаж. Подход к анализу был поэтапным, структурированным и визуально оформленным.\n",
    "\n",
    "Готов ответить на дополнительные вопросы или адаптировать подход под другие задачи."
   ]
  },
  {
   "cell_type": "markdown",
   "id": "b1bcb83b",
   "metadata": {},
   "source": [
    "---\n",
    "\n",
    "## Благодарю за внимание!\n",
    "\n",
    "Анализ выполнен с использованием Python и Jupyter Notebook.\n",
    "\n",
    "Автор: [Султанов С.3]  \n",
    "Дата выполнения: [09.04.2025г.]  "
   ]
  }
 ],
 "metadata": {
  "kernelspec": {
   "display_name": "Python 3 (ipykernel)",
   "language": "python",
   "name": "python3"
  },
  "language_info": {
   "codemirror_mode": {
    "name": "ipython",
    "version": 3
   },
   "file_extension": ".py",
   "mimetype": "text/x-python",
   "name": "python",
   "nbconvert_exporter": "python",
   "pygments_lexer": "ipython3",
   "version": "3.9.12"
  }
 },
 "nbformat": 4,
 "nbformat_minor": 5
}
